{
 "cells": [
  {
   "cell_type": "code",
   "execution_count": 2,
   "id": "4e7be9f9",
   "metadata": {},
   "outputs": [
    {
     "name": "stdout",
     "output_type": "stream",
     "text": [
      "Dataset URL: https://www.kaggle.com/datasets/teertha/ushealthinsurancedataset\n",
      "License(s): CC0-1.0\n",
      "Downloading ushealthinsurancedataset.zip to Data\n",
      "\n"
     ]
    },
    {
     "name": "stderr",
     "output_type": "stream",
     "text": [
      "\n",
      "  0%|          | 0.00/16.0k [00:00<?, ?B/s]\n",
      "100%|██████████| 16.0k/16.0k [00:00<00:00, 8.14MB/s]\n"
     ]
    }
   ],
   "source": [
    "!kaggle datasets download -d teertha/ushealthinsurancedataset -p Data --unzip "
   ]
  }
 ],
 "metadata": {
  "kernelspec": {
   "display_name": "Python 3",
   "language": "python",
   "name": "python3"
  },
  "language_info": {
   "codemirror_mode": {
    "name": "ipython",
    "version": 3
   },
   "file_extension": ".py",
   "mimetype": "text/x-python",
   "name": "python",
   "nbconvert_exporter": "python",
   "pygments_lexer": "ipython3",
   "version": "3.12.7"
  }
 },
 "nbformat": 4,
 "nbformat_minor": 5
}
